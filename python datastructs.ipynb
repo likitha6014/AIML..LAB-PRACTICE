{
  "nbformat": 4,
  "nbformat_minor": 0,
  "metadata": {
    "colab": {
      "provenance": []
    },
    "kernelspec": {
      "name": "python3",
      "display_name": "Python 3"
    },
    "language_info": {
      "name": "python"
    }
  },
  "cells": [
    {
      "cell_type": "code",
      "execution_count": 1,
      "metadata": {
        "colab": {
          "base_uri": "https://localhost:8080/"
        },
        "id": "c5udLuZUdvK7",
        "outputId": "b330c6f2-c852-4afa-e3db-25eb05daebb5"
      },
      "outputs": [
        {
          "output_type": "stream",
          "name": "stdout",
          "text": [
            "python version\n",
            "3.11.13 (main, Jun  4 2025, 08:57:29) [GCC 11.4.0]\n",
            "version info\n",
            "sys.version_info(major=3, minor=11, micro=13, releaselevel='final', serial=0)\n"
          ]
        }
      ],
      "source": [
        "import sys\n",
        "print(\"python version\")\n",
        "print(sys.version)\n",
        "print(\"version info\")\n",
        "print(sys.version_info)\n"
      ]
    },
    {
      "cell_type": "code",
      "source": [
        "age =38\n",
        "name ='pvrao'"
      ],
      "metadata": {
        "id": "KUKLwybseC0T"
      },
      "execution_count": 2,
      "outputs": []
    },
    {
      "cell_type": "code",
      "source": [
        "print(age)\n",
        "print(name)"
      ],
      "metadata": {
        "colab": {
          "base_uri": "https://localhost:8080/"
        },
        "id": "se1_QdZkeHPq",
        "outputId": "9ad89057-4bc2-4440-b3b2-7668b2df77fd"
      },
      "execution_count": 3,
      "outputs": [
        {
          "output_type": "stream",
          "name": "stdout",
          "text": [
            "38\n",
            "pvrao\n"
          ]
        }
      ]
    },
    {
      "cell_type": "code",
      "source": [
        "print(\"age=\",age)\n",
        "print(\"name=\",name)"
      ],
      "metadata": {
        "colab": {
          "base_uri": "https://localhost:8080/"
        },
        "id": "69TTKUtieMVi",
        "outputId": "234d6de1-9a8b-451e-e78f-5b5b96e280da"
      },
      "execution_count": 4,
      "outputs": [
        {
          "output_type": "stream",
          "name": "stdout",
          "text": [
            "age= 38\n",
            "name= pvrao\n"
          ]
        }
      ]
    },
    {
      "cell_type": "code",
      "source": [
        "age = int(input(\"enter your age\"))\n",
        "print(age\n",
        "      )"
      ],
      "metadata": {
        "colab": {
          "base_uri": "https://localhost:8080/"
        },
        "id": "hmVn9WqKeVCQ",
        "outputId": "be6c7359-aaa3-4662-a68d-5166c45f8b4b"
      },
      "execution_count": 5,
      "outputs": [
        {
          "output_type": "stream",
          "name": "stdout",
          "text": [
            "enter your age18\n",
            "18\n"
          ]
        }
      ]
    },
    {
      "cell_type": "code",
      "source": [
        "name = input('enter name')\n",
        "print(name\n",
        "      )"
      ],
      "metadata": {
        "colab": {
          "base_uri": "https://localhost:8080/"
        },
        "id": "gz3QA05SeiwI",
        "outputId": "260e8a0d-182c-443c-9a8b-29d3d8970004"
      },
      "execution_count": 6,
      "outputs": [
        {
          "output_type": "stream",
          "name": "stdout",
          "text": [
            "enter namelikhitha\n",
            "likhitha\n"
          ]
        }
      ]
    },
    {
      "cell_type": "code",
      "source": [
        "'%10.2f' % (3.141592653589793,)"
      ],
      "metadata": {
        "colab": {
          "base_uri": "https://localhost:8080/",
          "height": 36
        },
        "id": "P4ZXy1nNewRK",
        "outputId": "4a2c79db-903e-41a4-d9e2-6312cd78c37f"
      },
      "execution_count": 7,
      "outputs": [
        {
          "output_type": "execute_result",
          "data": {
            "text/plain": [
              "'      3.14'"
            ],
            "application/vnd.google.colaboratory.intrinsic+json": {
              "type": "string"
            }
          },
          "metadata": {},
          "execution_count": 7
        }
      ]
    },
    {
      "cell_type": "code",
      "source": [
        "import math\n",
        "print('%010.2f' % (math.pi,))\n",
        "print('%-10.4f' % (math.e))\n",
        "print('{:010.2f}'.format(math.pi,))\n",
        "print('{:10.4f}'.format(math.e))"
      ],
      "metadata": {
        "colab": {
          "base_uri": "https://localhost:8080/"
        },
        "id": "uSC_nwYpfmyJ",
        "outputId": "6a98f028-23e5-4cfa-e64e-8888755aaf70"
      },
      "execution_count": 14,
      "outputs": [
        {
          "output_type": "stream",
          "name": "stdout",
          "text": [
            "0000003.14\n",
            "2.7183    \n",
            "0000003.14\n",
            "    2.7183\n"
          ]
        }
      ]
    },
    {
      "cell_type": "code",
      "source": [
        "strOld = \"%s %d\" % ('Python', 3)\n",
        "print(strOld)\n",
        "strNew = \"{} {}\".format('Python', 3)\n",
        "print(strNew)\n",
        "strPos = \"{1} {0}\".format(3, 'Python')\n",
        "print(strPos)\n",
        "strOld = \"%(lang)s %(ver)d\" % {'ver':3, 'lang':'Python'}\n",
        "print(strPos)\n",
        "kwargs = {'ver':3, 'lang':'Python'}\n",
        "strNew1 = \"{lang} {ver}\".format(**kwargs)\n",
        "print(strNew1)\n",
        "strKey2 = \"{lang} {ver}\".format(** {'ver':3, 'lang':'Python'})\n",
        "print(strKey2)\n",
        "strKey3 = \"{lang} {ver}\".format(ver=3, lang='Python')\n",
        "print(strKey3)"
      ],
      "metadata": {
        "colab": {
          "base_uri": "https://localhost:8080/"
        },
        "id": "JtIdLMQafzH4",
        "outputId": "2bca9768-afd0-4c35-cbfa-d3e651e4b9b0"
      },
      "execution_count": 15,
      "outputs": [
        {
          "output_type": "stream",
          "name": "stdout",
          "text": [
            "Python 3\n",
            "Python 3\n",
            "Python 3\n",
            "Python 3\n",
            "Python 3\n",
            "Python 3\n",
            "Python 3\n"
          ]
        }
      ]
    },
    {
      "cell_type": "markdown",
      "source": [],
      "metadata": {
        "id": "nWJDTwgKegBL"
      }
    },
    {
      "cell_type": "code",
      "source": [
        "text = \"Hello World\"\n",
        "print(format(text, '<20'))\n",
        "print(format(text, '>20'))\n",
        "print(format(text, '^20'))\n",
        "print(format(text, '=>20s'))\n",
        "print(format(text, '*^20s'))\n",
        "import math\n",
        "print(format(math.pi, '>10.4'))\n",
        "print(format(math.pi, '>010.4'))\n",
        "print(format(-math.pi, '>-10.4'))\n",
        "print(format(-math.pi, '->10.4'))\n",
        "print(format(-math.pi, '-^10.4'))\n",
        "print(format(-math.pi, '0^10.4'))"
      ],
      "metadata": {
        "colab": {
          "base_uri": "https://localhost:8080/"
        },
        "id": "NljhLXX9f2b0",
        "outputId": "4613b349-e8ec-498b-8465-0f2510bd7d34"
      },
      "execution_count": 16,
      "outputs": [
        {
          "output_type": "stream",
          "name": "stdout",
          "text": [
            "Hello World         \n",
            "         Hello World\n",
            "    Hello World     \n",
            "=========Hello World\n",
            "****Hello World*****\n",
            "     3.142\n",
            "000003.142\n",
            "    -3.142\n",
            "-----3.142\n",
            "---3.142--\n",
            "00-3.14200\n"
          ]
        }
      ]
    },
    {
      "cell_type": "code",
      "source": [
        "ex_string = 'Hello World!'\n",
        "ex_int = 8\n",
        "ex_float = 12.5\n",
        "ex_bool = False\n",
        "print(ex_string)\n",
        "print(ex_int)\n",
        "print(ex_float)\n",
        "print(ex_bool)"
      ],
      "metadata": {
        "colab": {
          "base_uri": "https://localhost:8080/"
        },
        "id": "-AqwSpKwf4R2",
        "outputId": "b63e6dec-e8fd-4342-8858-d12330b3f54e"
      },
      "execution_count": 17,
      "outputs": [
        {
          "output_type": "stream",
          "name": "stdout",
          "text": [
            "Hello World!\n",
            "8\n",
            "12.5\n",
            "False\n"
          ]
        }
      ]
    },
    {
      "cell_type": "code",
      "source": [
        "print(type(ex_string))\n",
        "print(type(ex_int))\n",
        "print(type(ex_float))\n",
        "print(type(ex_bool))"
      ],
      "metadata": {
        "colab": {
          "base_uri": "https://localhost:8080/"
        },
        "id": "OORsOLlAf_fY",
        "outputId": "220a569d-6eaa-4576-acd7-21dcecdd82bd"
      },
      "execution_count": 18,
      "outputs": [
        {
          "output_type": "stream",
          "name": "stdout",
          "text": [
            "<class 'str'>\n",
            "<class 'int'>\n",
            "<class 'float'>\n",
            "<class 'bool'>\n"
          ]
        }
      ]
    },
    {
      "cell_type": "code",
      "source": [
        "type(ex_string)"
      ],
      "metadata": {
        "colab": {
          "base_uri": "https://localhost:8080/"
        },
        "id": "PYjn-xf-gDj4",
        "outputId": "237a8d0e-78d5-4c42-a11b-6e34280c8446"
      },
      "execution_count": 19,
      "outputs": [
        {
          "output_type": "execute_result",
          "data": {
            "text/plain": [
              "str"
            ]
          },
          "metadata": {},
          "execution_count": 19
        }
      ]
    },
    {
      "cell_type": "code",
      "source": [
        "type(ex_int)"
      ],
      "metadata": {
        "colab": {
          "base_uri": "https://localhost:8080/"
        },
        "id": "Mi3cK9brgHXx",
        "outputId": "d02ed153-37f4-4cc5-8b13-d556970d7dd5"
      },
      "execution_count": 20,
      "outputs": [
        {
          "output_type": "execute_result",
          "data": {
            "text/plain": [
              "int"
            ]
          },
          "metadata": {},
          "execution_count": 20
        }
      ]
    },
    {
      "cell_type": "code",
      "source": [
        "type(ex_float)"
      ],
      "metadata": {
        "colab": {
          "base_uri": "https://localhost:8080/"
        },
        "id": "lmlU7CYZgIw-",
        "outputId": "320207f1-df91-4a34-90ac-160aa78f6ea4"
      },
      "execution_count": 21,
      "outputs": [
        {
          "output_type": "execute_result",
          "data": {
            "text/plain": [
              "float"
            ]
          },
          "metadata": {},
          "execution_count": 21
        }
      ]
    },
    {
      "cell_type": "code",
      "source": [
        "type(ex_bool)"
      ],
      "metadata": {
        "colab": {
          "base_uri": "https://localhost:8080/"
        },
        "id": "P_edvoMdgNTF",
        "outputId": "7ac81154-4f42-4620-8c46-b35c8075cb66"
      },
      "execution_count": 22,
      "outputs": [
        {
          "output_type": "execute_result",
          "data": {
            "text/plain": [
              "bool"
            ]
          },
          "metadata": {},
          "execution_count": 22
        }
      ]
    },
    {
      "cell_type": "code",
      "source": [
        "a = 0b1111  #0o for octal #0x for hexa\n",
        "b = 0b1010\n",
        "print(a+b)\n",
        "print(bin(a+b))"
      ],
      "metadata": {
        "colab": {
          "base_uri": "https://localhost:8080/"
        },
        "id": "2RPJoDVvgL6G",
        "outputId": "186515cb-ea21-483d-f307-ebb5e47ac931"
      },
      "execution_count": 23,
      "outputs": [
        {
          "output_type": "stream",
          "name": "stdout",
          "text": [
            "25\n",
            "0b11001\n"
          ]
        }
      ]
    },
    {
      "cell_type": "code",
      "source": [
        "ex_string"
      ],
      "metadata": {
        "colab": {
          "base_uri": "https://localhost:8080/",
          "height": 36
        },
        "id": "k1LILNPqgR2A",
        "outputId": "d4ece038-cb7a-4261-b88c-7bab8c94e934"
      },
      "execution_count": 24,
      "outputs": [
        {
          "output_type": "execute_result",
          "data": {
            "text/plain": [
              "'Hello World!'"
            ],
            "application/vnd.google.colaboratory.intrinsic+json": {
              "type": "string"
            }
          },
          "metadata": {},
          "execution_count": 24
        }
      ]
    },
    {
      "cell_type": "code",
      "source": [
        "print(ex_string)"
      ],
      "metadata": {
        "colab": {
          "base_uri": "https://localhost:8080/"
        },
        "id": "at3YfWJ7gVWt",
        "outputId": "876d55de-7212-45a6-d171-67c7ed5b7f32"
      },
      "execution_count": 25,
      "outputs": [
        {
          "output_type": "stream",
          "name": "stdout",
          "text": [
            "Hello World!\n"
          ]
        }
      ]
    },
    {
      "cell_type": "code",
      "source": [
        "\n",
        "# Addition:\n",
        "print(1 + 2)\n",
        "# Subtraction:\n",
        "print(1 - 2)\n",
        "# Multiplication:\n",
        "print(1 * 2)\n",
        "# Division:\n",
        "print(4 / 5) #Float division\n",
        "print(4//5) #Integer Division"
      ],
      "metadata": {
        "colab": {
          "base_uri": "https://localhost:8080/"
        },
        "id": "1lQbbPJEgYfQ",
        "outputId": "233fd793-b7f7-4657-df7b-031dfcde6c76"
      },
      "execution_count": 26,
      "outputs": [
        {
          "output_type": "stream",
          "name": "stdout",
          "text": [
            "3\n",
            "-1\n",
            "2\n",
            "0.8\n",
            "0\n"
          ]
        }
      ]
    },
    {
      "cell_type": "code",
      "source": [
        "\n",
        "print(4 // 2)\n",
        "print(-3.0 // 2)"
      ],
      "metadata": {
        "colab": {
          "base_uri": "https://localhost:8080/"
        },
        "id": "pdN4BJphgdUQ",
        "outputId": "3487f361-35cc-430d-c456-4b09108323d0"
      },
      "execution_count": 27,
      "outputs": [
        {
          "output_type": "stream",
          "name": "stdout",
          "text": [
            "2\n",
            "-2.0\n"
          ]
        }
      ]
    },
    {
      "cell_type": "code",
      "source": [
        "\n",
        "2 ** 2 **5"
      ],
      "metadata": {
        "colab": {
          "base_uri": "https://localhost:8080/"
        },
        "id": "wtkRWCLrgffD",
        "outputId": "f640940d-1eb2-4b29-b221-12436445bac7"
      },
      "execution_count": 28,
      "outputs": [
        {
          "output_type": "execute_result",
          "data": {
            "text/plain": [
              "4294967296"
            ]
          },
          "metadata": {},
          "execution_count": 28
        }
      ]
    },
    {
      "cell_type": "code",
      "source": [
        "\n",
        "#comparision operators\n",
        "\n",
        "p = 2**3**4\n",
        "print(p)\n",
        "q = 2**(4**3)\n",
        "print(q)\n",
        "print(p==q)\n",
        "print(18 & 3)\n",
        "print(bin(18))\n",
        "print(bin(3))\n",
        "\n",
        "\n",
        "print(bin(24))\n",
        "print(oct(24))\n",
        "print(hex(24))\n",
        "a=5\n",
        "b=6\n",
        "d=5|6\n",
        "print(d)\n",
        "\n",
        "print(5^6)\n",
        "\n",
        "\n",
        "###shift opertators\n",
        "\n",
        "print(4 <<4)\n",
        "print(64 >> 3)"
      ],
      "metadata": {
        "colab": {
          "base_uri": "https://localhost:8080/"
        },
        "id": "KXGhtkL1gpHX",
        "outputId": "b110ec0e-00f7-4b11-eabd-a956d633bb85"
      },
      "execution_count": 29,
      "outputs": [
        {
          "output_type": "stream",
          "name": "stdout",
          "text": [
            "2417851639229258349412352\n",
            "18446744073709551616\n",
            "False\n",
            "2\n",
            "0b10010\n",
            "0b11\n",
            "0b11000\n",
            "0o30\n",
            "0x18\n",
            "7\n",
            "3\n",
            "64\n",
            "8\n"
          ]
        }
      ]
    },
    {
      "cell_type": "code",
      "source": [
        "import sys\n",
        "print(\" Size of int: \", sys.getsizeof(10), \"\\n\",\n",
        "\"Size of float: \", sys.getsizeof(10.3), \"\\n\",\n",
        "\"Size of complex: \", sys.getsizeof(2+3j), \"\\n\",\n",
        "\"Size of empty List: \", sys.getsizeof([]), \"\\n\",\n",
        "\"Size of List with 1 item: \", sys.getsizeof([1]), \"\\n\",\n",
        "\"Size of List with 2 items: \", sys.getsizeof([1,2]), \"\\n\",\n",
        "\"Size of empty Tuple: \", sys.getsizeof(()), \"\\n\",\n",
        "\"Size of Tuple with 1 item: \", sys.getsizeof((1)), \"\\n\",\n",
        "\"Size of Tuple with 2 items: \", sys.getsizeof((1,2)), \"\\n\",\n",
        "\"Size of Tuple with 3 items: \", sys.getsizeof((1,2,3)), \"\\n\",\n",
        "\"Size of empty Set: \", sys.getsizeof({}), \"\\n\",\n",
        "\"Size of Set with 1 item: \", sys.getsizeof({1}), \"\\n\",\n",
        "\"Size of Set with 2 items: \", sys.getsizeof({1,2}), \"\\n\",\n",
        "\"Size of Dict with 1 item: \", sys.getsizeof({\"n\":1}), \"\\n\",\n",
        "\"Size of Dict with 2 items: \", sys.getsizeof({\"n\":1, \"m\":2}))"
      ],
      "metadata": {
        "colab": {
          "base_uri": "https://localhost:8080/"
        },
        "id": "3vdDeSEKgvI_",
        "outputId": "a9a69d53-6f25-494c-bdff-5b6127bd58c2"
      },
      "execution_count": 30,
      "outputs": [
        {
          "output_type": "stream",
          "name": "stdout",
          "text": [
            " Size of int:  28 \n",
            " Size of float:  24 \n",
            " Size of complex:  32 \n",
            " Size of empty List:  56 \n",
            " Size of List with 1 item:  64 \n",
            " Size of List with 2 items:  72 \n",
            " Size of empty Tuple:  40 \n",
            " Size of Tuple with 1 item:  28 \n",
            " Size of Tuple with 2 items:  56 \n",
            " Size of Tuple with 3 items:  64 \n",
            " Size of empty Set:  64 \n",
            " Size of Set with 1 item:  216 \n",
            " Size of Set with 2 items:  216 \n",
            " Size of Dict with 1 item:  184 \n",
            " Size of Dict with 2 items:  184\n"
          ]
        }
      ]
    },
    {
      "cell_type": "code",
      "source": [
        "if 1 == 1:\n",
        "    print('The integer 1 is equal to the integer 1.')\n",
        "    print('Is the next indented line run, too?')"
      ],
      "metadata": {
        "colab": {
          "base_uri": "https://localhost:8080/"
        },
        "id": "3i_-Ms9Jg7-O",
        "outputId": "e06a4207-6eb4-4ec3-a4ce-665bfee04881"
      },
      "execution_count": 31,
      "outputs": [
        {
          "output_type": "stream",
          "name": "stdout",
          "text": [
            "The integer 1 is equal to the integer 1.\n",
            "Is the next indented line run, too?\n"
          ]
        }
      ]
    },
    {
      "cell_type": "code",
      "source": [
        "if 'one' == 'two':\n",
        "    print(\"The string 'one' is equal to the string 'two'.\")\n",
        "\n",
        "print('---')\n",
        "print('These two lines are not indented, so they are always run next.')"
      ],
      "metadata": {
        "colab": {
          "base_uri": "https://localhost:8080/"
        },
        "id": "7FXZyrLUg-cN",
        "outputId": "c337a157-8ecc-4454-8064-118c1f7145bc"
      },
      "execution_count": 32,
      "outputs": [
        {
          "output_type": "stream",
          "name": "stdout",
          "text": [
            "---\n",
            "These two lines are not indented, so they are always run next.\n"
          ]
        }
      ]
    },
    {
      "cell_type": "code",
      "source": [
        "if 50 < 30:\n",
        "    print(\"50 < 30.\")\n",
        "else:\n",
        "    print(\"50 >= 30.\")\n",
        "    print(\"The else code block wdas run instead of the first block.\")\n",
        "\n",
        "print('---')\n",
        "print('These two lines are not indented, so they are always run next.')"
      ],
      "metadata": {
        "colab": {
          "base_uri": "https://localhost:8080/"
        },
        "id": "lbPRO6WHhBmj",
        "outputId": "1c89e45e-0dc0-40fc-daaa-64131190914c"
      },
      "execution_count": 33,
      "outputs": [
        {
          "output_type": "stream",
          "name": "stdout",
          "text": [
            "50 >= 30.\n",
            "The else code block wdas run instead of the first block.\n",
            "---\n",
            "These two lines are not indented, so they are always run next.\n"
          ]
        }
      ]
    },
    {
      "cell_type": "code",
      "source": [
        "health = 55\n",
        "\n",
        "if health > 70:\n",
        "    print('You are in great health!')\n",
        "elif health > 40:\n",
        "    print('Your health is average.')\n",
        "    print('Exercise and eat healthily!')\n",
        "else:\n",
        "    print('Your health is low.')\n",
        "    print('Please see a doctor now.')\n",
        "\n",
        "print('---')\n",
        "print('These two lines are not indented, so they are always run next.')"
      ],
      "metadata": {
        "colab": {
          "base_uri": "https://localhost:8080/"
        },
        "id": "QyuBa9w7hEWh",
        "outputId": "ea3f179b-8adf-46dd-cdc8-1e06ff8b3d63"
      },
      "execution_count": 34,
      "outputs": [
        {
          "output_type": "stream",
          "name": "stdout",
          "text": [
            "Your health is average.\n",
            "Exercise and eat healthily!\n",
            "---\n",
            "These two lines are not indented, so they are always run next.\n"
          ]
        }
      ]
    },
    {
      "cell_type": "code",
      "source": [
        "bachelor = input(\"You watch the bachelor?\")\n",
        "if bachelor == 'yes' or bachelor == 'Yes':\n",
        "    print('bachelor watcher')\n",
        "else:\n",
        "    print('possible bachelor watcher')\n",
        ""
      ],
      "metadata": {
        "colab": {
          "base_uri": "https://localhost:8080/"
        },
        "id": "CfEGp1NOhHOd",
        "outputId": "7a6693ab-a2cb-4911-ed56-a1a45a28a6c5"
      },
      "execution_count": 35,
      "outputs": [
        {
          "output_type": "stream",
          "name": "stdout",
          "text": [
            "You watch the bachelor?yes\n",
            "bachelor watcher\n"
          ]
        }
      ]
    },
    {
      "cell_type": "code",
      "source": [
        "x = 0\n",
        "while x < 10:\n",
        "    print(x)\n",
        "    x = x+1"
      ],
      "metadata": {
        "colab": {
          "base_uri": "https://localhost:8080/"
        },
        "id": "Lp9QO9hNhMG9",
        "outputId": "ad176558-5cdc-486f-8c9f-98e39c1268db"
      },
      "execution_count": 36,
      "outputs": [
        {
          "output_type": "stream",
          "name": "stdout",
          "text": [
            "0\n",
            "1\n",
            "2\n",
            "3\n",
            "4\n",
            "5\n",
            "6\n",
            "7\n",
            "8\n",
            "9\n"
          ]
        }
      ]
    },
    {
      "cell_type": "code",
      "source": [
        "list1 = [11,23,35,46,51,62,78, 89, 90,456, 345, 789, 234]\n",
        "print(\"3rd Item in List is: \", list1[2]) # Indexing\n",
        "print(\"2nd Last in List is: \", list1[-2]) # Indexing from Last\n",
        "print(\"List from 2nd Item is: \", list1[2:])\n",
        "print(\"List from 2nd to 4th Item is: \", list1[2:5])\n",
        "print(\"List odd Items is: \", list1[::2])\n",
        "print(\"List even Items is: \", list1[1::2])\n",
        "print(\"List reversed Items is: \", list1[-1::-1])"
      ],
      "metadata": {
        "colab": {
          "base_uri": "https://localhost:8080/"
        },
        "id": "6p_tmFG_hZTa",
        "outputId": "72187c3f-2028-4a85-d594-ae6fbaf12d15"
      },
      "execution_count": 37,
      "outputs": [
        {
          "output_type": "stream",
          "name": "stdout",
          "text": [
            "3rd Item in List is:  35\n",
            "2nd Last in List is:  789\n",
            "List from 2nd Item is:  [35, 46, 51, 62, 78, 89, 90, 456, 345, 789, 234]\n",
            "List from 2nd to 4th Item is:  [35, 46, 51]\n",
            "List odd Items is:  [11, 35, 51, 78, 90, 345, 234]\n",
            "List even Items is:  [23, 46, 62, 89, 456, 789]\n",
            "List reversed Items is:  [234, 789, 345, 456, 90, 89, 78, 62, 51, 46, 35, 23, 11]\n"
          ]
        }
      ]
    },
    {
      "cell_type": "code",
      "source": [
        "# Create a new empty list:\n",
        "l = []\n",
        "\n",
        "# Add an element using append():\n",
        "l.append(\"A\")\n",
        "l.append(\"d\")\n",
        "l.append(\"d\")\n",
        "\n",
        "print(l)"
      ],
      "metadata": {
        "colab": {
          "base_uri": "https://localhost:8080/"
        },
        "id": "3JPQRUNbhdoS",
        "outputId": "18037ae4-1911-4239-8e05-1fe2d6675e6b"
      },
      "execution_count": 39,
      "outputs": [
        {
          "output_type": "stream",
          "name": "stdout",
          "text": [
            "['A', 'd', 'd']\n"
          ]
        }
      ]
    },
    {
      "cell_type": "code",
      "source": [
        "# Reassign a range of values with another list:\n",
        "l[1:3] = [\"b\", \"c\"]\n",
        "print(l)"
      ],
      "metadata": {
        "colab": {
          "base_uri": "https://localhost:8080/"
        },
        "id": "TlknLEAVhmLT",
        "outputId": "cb3a8595-c42a-4735-887e-b8815437d1ce"
      },
      "execution_count": 40,
      "outputs": [
        {
          "output_type": "stream",
          "name": "stdout",
          "text": [
            "['A', 'b', 'c']\n"
          ]
        }
      ]
    },
    {
      "cell_type": "code",
      "source": [
        "#Use the .insert() method to add values at specific indices.\n",
        "l.insert(0, \"i\")\n",
        "l.insert(1, \"n\")\n",
        "l.insert(2, \"s\")\n",
        "l.insert(3, \"e\")\n",
        "l.insert(4, \"r\")\n",
        "l.insert(5, \"t\")\n",
        "\n",
        "print(l)"
      ],
      "metadata": {
        "colab": {
          "base_uri": "https://localhost:8080/"
        },
        "id": "NxlagMS_hpKG",
        "outputId": "0a4c263e-ff3b-476f-eeda-0574be443dcd"
      },
      "execution_count": 41,
      "outputs": [
        {
          "output_type": "stream",
          "name": "stdout",
          "text": [
            "['i', 'n', 's', 'e', 'r', 't', 'A', 'b', 'c']\n"
          ]
        }
      ]
    },
    {
      "cell_type": "code",
      "source": [
        "\n",
        "l.remove(\"A\")\n",
        "print(l)"
      ],
      "metadata": {
        "colab": {
          "base_uri": "https://localhost:8080/"
        },
        "id": "tMlCVtpmhtSo",
        "outputId": "7ddf2605-0681-4030-c8c9-82414eb7c9db"
      },
      "execution_count": 42,
      "outputs": [
        {
          "output_type": "stream",
          "name": "stdout",
          "text": [
            "['i', 'n', 's', 'e', 'r', 't', 'b', 'c']\n"
          ]
        }
      ]
    },
    {
      "cell_type": "code",
      "source": [
        "Ages = [ '20', '26', '56', '54', '32', '28','23','99', '87', '10', '65', '88', '66',\n",
        "                  '48', '42', '27','33','38','83','94','66','44']\n",
        "print(sorted(Ages, reverse=False))\n",
        "print(Ages.sort())\n",
        "print(sorted(Ages, reverse=True))\n",
        "\n",
        "D = ['MONDAY', 'TUESDAY','WEDNESDAY','THURSDAY','FRIDAY','SATURDAY','SUNDAY']\n",
        "print(D[-5], D[-4])\n",
        "print(D[3], D[4])\n",
        "print(D[2:5])\n",
        "\n",
        "#print(reverse(D))\n",
        "print(D.reverse())\n",
        "print(list(reversed(D)))\n",
        "\n",
        "Mylist =['a','a','b','b','b','c','c','d','e']\n",
        "print(Mylist.index('d'))\n",
        "Mylist.pop(0)\n",
        "print(Mylist)\n",
        "\n",
        "N = [24, 27, 29, 26, 25, 23, 20]\n",
        "len(N)"
      ],
      "metadata": {
        "colab": {
          "base_uri": "https://localhost:8080/"
        },
        "id": "BSojg0AXhw4l",
        "outputId": "9e6c00c5-f2a6-41a0-fa9b-053445d8a955"
      },
      "execution_count": 43,
      "outputs": [
        {
          "output_type": "stream",
          "name": "stdout",
          "text": [
            "['10', '20', '23', '26', '27', '28', '32', '33', '38', '42', '44', '48', '54', '56', '65', '66', '66', '83', '87', '88', '94', '99']\n",
            "None\n",
            "['99', '94', '88', '87', '83', '66', '66', '65', '56', '54', '48', '44', '42', '38', '33', '32', '28', '27', '26', '23', '20', '10']\n",
            "WEDNESDAY THURSDAY\n",
            "THURSDAY FRIDAY\n",
            "['WEDNESDAY', 'THURSDAY', 'FRIDAY']\n",
            "None\n",
            "['MONDAY', 'TUESDAY', 'WEDNESDAY', 'THURSDAY', 'FRIDAY', 'SATURDAY', 'SUNDAY']\n",
            "7\n",
            "['a', 'b', 'b', 'b', 'c', 'c', 'd', 'e']\n"
          ]
        },
        {
          "output_type": "execute_result",
          "data": {
            "text/plain": [
              "7"
            ]
          },
          "metadata": {},
          "execution_count": 43
        }
      ]
    },
    {
      "cell_type": "code",
      "source": [
        "\n",
        "\n",
        "l1 = [1,2,3,4,5]\n",
        "\n",
        "for i in range(0,len(l1)):\n",
        "    l1[i] = l1[i]+10\n",
        "print(l1)\n",
        "\n",
        "l2 = [x+10 for x in l1]\n",
        "print(l2)\n",
        "\n",
        "l3 = [x**3 for x in l1]\n",
        "print(l3)\n",
        "\n",
        "fahrenheit = [((float(9)/5)*x+32) for x in l1]\n",
        "print(fahrenheit)\n",
        "\n",
        "e = [x for x in l1 if x%2==0]\n",
        "print(e)\n"
      ],
      "metadata": {
        "colab": {
          "base_uri": "https://localhost:8080/"
        },
        "id": "qJVOn3jWh1XH",
        "outputId": "677ccc8b-d602-4968-c4ac-bf4bedb8e53b"
      },
      "execution_count": 45,
      "outputs": [
        {
          "output_type": "stream",
          "name": "stdout",
          "text": [
            "[11, 12, 13, 14, 15]\n",
            "[21, 22, 23, 24, 25]\n",
            "[1331, 1728, 2197, 2744, 3375]\n",
            "[51.8, 53.6, 55.400000000000006, 57.2, 59.0]\n",
            "[12, 14]\n"
          ]
        }
      ]
    },
    {
      "cell_type": "code",
      "source": [
        "tuple1 = (1,2,3,4,5,6)\n",
        "print(\"3rd Item in tuple is: \", tuple1[2]) # Indexed Item\n",
        "print(\"Tuple from 2nd Item is: \", tuple1[2:])\n",
        "print(\"Tuple from 2nd to 4th Item is: \", tuple1[2:5])\n",
        "print(\"Tuple odd Items is: \", tuple1[::2])\n",
        "print(\"Tuple even Items is: \", tuple1[1::2])\n",
        "print(\"Tuple reversed Items is: \", tuple1[-1::-1])"
      ],
      "metadata": {
        "colab": {
          "base_uri": "https://localhost:8080/"
        },
        "id": "9gsC695Xh9RI",
        "outputId": "d42f5236-a1d5-4c14-8846-e85ef40e2392"
      },
      "execution_count": 46,
      "outputs": [
        {
          "output_type": "stream",
          "name": "stdout",
          "text": [
            "3rd Item in tuple is:  3\n",
            "Tuple from 2nd Item is:  (3, 4, 5, 6)\n",
            "Tuple from 2nd to 4th Item is:  (3, 4, 5)\n",
            "Tuple odd Items is:  (1, 3, 5)\n",
            "Tuple even Items is:  (2, 4, 6)\n",
            "Tuple reversed Items is:  (6, 5, 4, 3, 2, 1)\n"
          ]
        }
      ]
    },
    {
      "cell_type": "code",
      "source": [
        "def add(x,y):\n",
        "    return x+y\n",
        "print(\"Sum is \",add(3,5))\n",
        "\n"
      ],
      "metadata": {
        "colab": {
          "base_uri": "https://localhost:8080/"
        },
        "id": "WyVT4ziDh-kz",
        "outputId": "0a009dee-b752-4958-f97d-d6640256fd7f"
      },
      "execution_count": 47,
      "outputs": [
        {
          "output_type": "stream",
          "name": "stdout",
          "text": [
            "Sum is  8\n"
          ]
        }
      ]
    },
    {
      "cell_type": "code",
      "source": [
        "def fact(n):\n",
        "    f=1\n",
        "    for i in range(1,n+1):\n",
        "        f=f*i\n",
        "    return f\n",
        "\n",
        "print(\"Factorial of the number is:\",fact(6))\n",
        "\n"
      ],
      "metadata": {
        "colab": {
          "base_uri": "https://localhost:8080/"
        },
        "id": "6gCqeMUziDbg",
        "outputId": "723b4b94-7bd7-4a90-b662-2c9d62206a14"
      },
      "execution_count": 48,
      "outputs": [
        {
          "output_type": "stream",
          "name": "stdout",
          "text": [
            "Factorial of the number is: 720\n"
          ]
        }
      ]
    },
    {
      "cell_type": "code",
      "source": [
        "\n",
        "word=['f','a','t','h','i','m','a']\n",
        "def count_vow(word):\n",
        "    for i in word:\n",
        "        if(i=='a'or i=='e'or i=='i'or i=='o'or i=='u'):\n",
        "            word.remove(i)\n",
        "    return word\n",
        "count_vow(word)"
      ],
      "metadata": {
        "colab": {
          "base_uri": "https://localhost:8080/"
        },
        "id": "NTSd9cfJiHbg",
        "outputId": "5f1cab1f-8026-46cb-fde9-912099485b24"
      },
      "execution_count": 49,
      "outputs": [
        {
          "output_type": "execute_result",
          "data": {
            "text/plain": [
              "['f', 't', 'h', 'm']"
            ]
          },
          "metadata": {},
          "execution_count": 49
        }
      ]
    },
    {
      "cell_type": "code",
      "source": [
        "def vowel_counter(word):\n",
        "    '''\n",
        "    This function takes in a word and\n",
        "    counts how many vowels\n",
        "    '''\n",
        "    count = 0\n",
        "    for letter in word:\n",
        "        if letter in 'aeiouAEIOU':\n",
        "#         if letter in ['a', 'e', 'i', 'o', 'u']:\n",
        "            count += 1\n",
        "    return count"
      ],
      "metadata": {
        "id": "5ARjhOMfiO8W"
      },
      "execution_count": 50,
      "outputs": []
    },
    {
      "cell_type": "code",
      "source": [
        "params = {\"key1\" : 1.0,\n",
        "          \"key2\" : 2.0,\n",
        "          \"key3\" : 3.0,}\n",
        "\n",
        "print(type(params))\n",
        "print(params)"
      ],
      "metadata": {
        "colab": {
          "base_uri": "https://localhost:8080/"
        },
        "id": "Isb7Y0ruiT9l",
        "outputId": "8cf590b5-b81b-45ed-a80f-0fd54ac84006"
      },
      "execution_count": 51,
      "outputs": [
        {
          "output_type": "stream",
          "name": "stdout",
          "text": [
            "<class 'dict'>\n",
            "{'key1': 1.0, 'key2': 2.0, 'key3': 3.0}\n"
          ]
        }
      ]
    },
    {
      "cell_type": "code",
      "source": [
        "v1 = {'A', 'B', 'A', 'A', 'B'}\n",
        "lyrics = '''And still\n",
        "Bad things\n",
        "It's a lot of bad things\n",
        "That they wishin' and wishin' and wishin' and wishin'\n",
        "They wishin' on me\n",
        "Bad things\n",
        "It's a lot of bad things\n",
        "That they wishin' and wishin' and wishin' and wishin'\n",
        "They wishin' on me\n",
        "Yuh, ayy, ayy\n",
        "'''\n",
        "len(lyrics)\n",
        "words = lyrics.split()\n",
        "words\n"
      ],
      "metadata": {
        "colab": {
          "base_uri": "https://localhost:8080/"
        },
        "id": "1wrAtyiBiduF",
        "outputId": "72d3306a-a226-4acd-bc31-7723eb26d7f4"
      },
      "execution_count": 52,
      "outputs": [
        {
          "output_type": "execute_result",
          "data": {
            "text/plain": [
              "['And',\n",
              " 'still',\n",
              " 'Bad',\n",
              " 'things',\n",
              " \"It's\",\n",
              " 'a',\n",
              " 'lot',\n",
              " 'of',\n",
              " 'bad',\n",
              " 'things',\n",
              " 'That',\n",
              " 'they',\n",
              " \"wishin'\",\n",
              " 'and',\n",
              " \"wishin'\",\n",
              " 'and',\n",
              " \"wishin'\",\n",
              " 'and',\n",
              " \"wishin'\",\n",
              " 'They',\n",
              " \"wishin'\",\n",
              " 'on',\n",
              " 'me',\n",
              " 'Bad',\n",
              " 'things',\n",
              " \"It's\",\n",
              " 'a',\n",
              " 'lot',\n",
              " 'of',\n",
              " 'bad',\n",
              " 'things',\n",
              " 'That',\n",
              " 'they',\n",
              " \"wishin'\",\n",
              " 'and',\n",
              " \"wishin'\",\n",
              " 'and',\n",
              " \"wishin'\",\n",
              " 'and',\n",
              " \"wishin'\",\n",
              " 'They',\n",
              " \"wishin'\",\n",
              " 'on',\n",
              " 'me',\n",
              " 'Yuh,',\n",
              " 'ayy,',\n",
              " 'ayy']"
            ]
          },
          "metadata": {},
          "execution_count": 52
        }
      ]
    },
    {
      "cell_type": "code",
      "source": [
        "set(words)"
      ],
      "metadata": {
        "colab": {
          "base_uri": "https://localhost:8080/"
        },
        "id": "q710qmQmisLY",
        "outputId": "3b1b2523-c325-42f5-958d-c85b0da56764"
      },
      "execution_count": 53,
      "outputs": [
        {
          "output_type": "execute_result",
          "data": {
            "text/plain": [
              "{'And',\n",
              " 'Bad',\n",
              " \"It's\",\n",
              " 'That',\n",
              " 'They',\n",
              " 'Yuh,',\n",
              " 'a',\n",
              " 'and',\n",
              " 'ayy',\n",
              " 'ayy,',\n",
              " 'bad',\n",
              " 'lot',\n",
              " 'me',\n",
              " 'of',\n",
              " 'on',\n",
              " 'still',\n",
              " 'they',\n",
              " 'things',\n",
              " \"wishin'\"}"
            ]
          },
          "metadata": {},
          "execution_count": 53
        }
      ]
    },
    {
      "cell_type": "code",
      "source": [
        "len(set(words))"
      ],
      "metadata": {
        "colab": {
          "base_uri": "https://localhost:8080/"
        },
        "id": "xpKzwGHoiyQo",
        "outputId": "8c246500-7cdc-484b-95a3-90588b456507"
      },
      "execution_count": 54,
      "outputs": [
        {
          "output_type": "execute_result",
          "data": {
            "text/plain": [
              "19"
            ]
          },
          "metadata": {},
          "execution_count": 54
        }
      ]
    },
    {
      "cell_type": "code",
      "source": [
        "x1 = {9,5,6,3,7,8,1}\n",
        "x2 = {7,1,3,2,0,4,8}\n",
        "x1.symmetric_difference(x2)\n",
        "print(x1.intersection(x2))"
      ],
      "metadata": {
        "colab": {
          "base_uri": "https://localhost:8080/"
        },
        "id": "mf9ppvJGi5on",
        "outputId": "ced14cc9-c962-4726-8498-afda6a794114"
      },
      "execution_count": 55,
      "outputs": [
        {
          "output_type": "stream",
          "name": "stdout",
          "text": [
            "{8, 1, 3, 7}\n"
          ]
        }
      ]
    },
    {
      "cell_type": "code",
      "source": [
        "keys = [1,2,3,4]\n",
        "values = ['one', 'two','three','four']\n",
        "zipdict = dict(zip(keys, values))\n",
        "zipdict\n",
        "zipdict.values()\n",
        "dict={19:\"shyamala\",20:\"dhgya\",21:\"xvbn\"}\n",
        "dict.get(19)\n"
      ],
      "metadata": {
        "colab": {
          "base_uri": "https://localhost:8080/",
          "height": 36
        },
        "id": "OGbNMHQZi9eR",
        "outputId": "fa6ca85e-342c-4221-e47a-6cb575cf9afc"
      },
      "execution_count": 56,
      "outputs": [
        {
          "output_type": "execute_result",
          "data": {
            "text/plain": [
              "'shyamala'"
            ],
            "application/vnd.google.colaboratory.intrinsic+json": {
              "type": "string"
            }
          },
          "metadata": {},
          "execution_count": 56
        }
      ]
    },
    {
      "cell_type": "code",
      "source": [
        "dict[19]"
      ],
      "metadata": {
        "colab": {
          "base_uri": "https://localhost:8080/",
          "height": 36
        },
        "id": "OLTxUALQjFMu",
        "outputId": "02f62c73-e28b-4f72-f91d-72923db4de8a"
      },
      "execution_count": 57,
      "outputs": [
        {
          "output_type": "execute_result",
          "data": {
            "text/plain": [
              "'shyamala'"
            ],
            "application/vnd.google.colaboratory.intrinsic+json": {
              "type": "string"
            }
          },
          "metadata": {},
          "execution_count": 57
        }
      ]
    }
  ]
}